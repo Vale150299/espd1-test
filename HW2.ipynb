{
  "nbformat": 4,
  "nbformat_minor": 0,
  "metadata": {
    "colab": {
      "provenance": [],
      "authorship_tag": "ABX9TyO3Br/G3xAExxjlpcoc+xe6",
      "include_colab_link": true
    },
    "kernelspec": {
      "name": "python3",
      "display_name": "Python 3"
    },
    "language_info": {
      "name": "python"
    }
  },
  "cells": [
    {
      "cell_type": "markdown",
      "metadata": {
        "id": "view-in-github",
        "colab_type": "text"
      },
      "source": [
        "<a href=\"https://colab.research.google.com/github/Vale150299/espd1-test/blob/main/HW2.ipynb\" target=\"_parent\"><img src=\"https://colab.research.google.com/assets/colab-badge.svg\" alt=\"Open In Colab\"/></a>"
      ]
    },
    {
      "cell_type": "code",
      "source": [
        "file_path = r\"C:\\Users\\valei\\Downloads\\7b8f10b0205ae74762e82f976857e4fc.nc\""
      ],
      "metadata": {
        "id": "3kgmT1o8UBBA"
      },
      "execution_count": 43,
      "outputs": []
    },
    {
      "cell_type": "code",
      "source": [
        "file_path"
      ],
      "metadata": {
        "colab": {
          "base_uri": "https://localhost:8080/",
          "height": 36
        },
        "id": "HkTTc3rBUHoM",
        "outputId": "9631a07e-5371-4c97-d344-29c50d1b5f32"
      },
      "execution_count": 44,
      "outputs": [
        {
          "output_type": "execute_result",
          "data": {
            "text/plain": [
              "'C:\\\\Users\\\\valei\\\\Downloads\\\\7b8f10b0205ae74762e82f976857e4fc.nc'"
            ],
            "application/vnd.google.colaboratory.intrinsic+json": {
              "type": "string"
            }
          },
          "metadata": {},
          "execution_count": 44
        }
      ]
    },
    {
      "cell_type": "code",
      "source": [
        "pip install netCDF4"
      ],
      "metadata": {
        "colab": {
          "base_uri": "https://localhost:8080/"
        },
        "id": "1-lCOXtNUTMw",
        "outputId": "a3b99a31-806e-4475-c781-17162dcf60b8"
      },
      "execution_count": 41,
      "outputs": [
        {
          "output_type": "stream",
          "name": "stdout",
          "text": [
            "Requirement already satisfied: netCDF4 in /usr/local/lib/python3.10/dist-packages (1.7.1.post1)\n",
            "Requirement already satisfied: cftime in /usr/local/lib/python3.10/dist-packages (from netCDF4) (1.6.4)\n",
            "Requirement already satisfied: certifi in /usr/local/lib/python3.10/dist-packages (from netCDF4) (2024.7.4)\n",
            "Requirement already satisfied: numpy in /usr/local/lib/python3.10/dist-packages (from netCDF4) (1.26.4)\n"
          ]
        }
      ]
    },
    {
      "cell_type": "code",
      "source": [
        "from google.colab import files\n",
        "uploaded = files.upload()"
      ],
      "metadata": {
        "colab": {
          "base_uri": "https://localhost:8080/",
          "height": 74
        },
        "id": "55SqGqzRVAzC",
        "outputId": "f3c3479a-8c4f-4603-982f-d7299be09783"
      },
      "execution_count": 50,
      "outputs": [
        {
          "output_type": "display_data",
          "data": {
            "text/plain": [
              "<IPython.core.display.HTML object>"
            ],
            "text/html": [
              "\n",
              "     <input type=\"file\" id=\"files-ce18ca01-2c17-403e-8ecb-70aad6f2d74f\" name=\"files[]\" multiple disabled\n",
              "        style=\"border:none\" />\n",
              "     <output id=\"result-ce18ca01-2c17-403e-8ecb-70aad6f2d74f\">\n",
              "      Upload widget is only available when the cell has been executed in the\n",
              "      current browser session. Please rerun this cell to enable.\n",
              "      </output>\n",
              "      <script>// Copyright 2017 Google LLC\n",
              "//\n",
              "// Licensed under the Apache License, Version 2.0 (the \"License\");\n",
              "// you may not use this file except in compliance with the License.\n",
              "// You may obtain a copy of the License at\n",
              "//\n",
              "//      http://www.apache.org/licenses/LICENSE-2.0\n",
              "//\n",
              "// Unless required by applicable law or agreed to in writing, software\n",
              "// distributed under the License is distributed on an \"AS IS\" BASIS,\n",
              "// WITHOUT WARRANTIES OR CONDITIONS OF ANY KIND, either express or implied.\n",
              "// See the License for the specific language governing permissions and\n",
              "// limitations under the License.\n",
              "\n",
              "/**\n",
              " * @fileoverview Helpers for google.colab Python module.\n",
              " */\n",
              "(function(scope) {\n",
              "function span(text, styleAttributes = {}) {\n",
              "  const element = document.createElement('span');\n",
              "  element.textContent = text;\n",
              "  for (const key of Object.keys(styleAttributes)) {\n",
              "    element.style[key] = styleAttributes[key];\n",
              "  }\n",
              "  return element;\n",
              "}\n",
              "\n",
              "// Max number of bytes which will be uploaded at a time.\n",
              "const MAX_PAYLOAD_SIZE = 100 * 1024;\n",
              "\n",
              "function _uploadFiles(inputId, outputId) {\n",
              "  const steps = uploadFilesStep(inputId, outputId);\n",
              "  const outputElement = document.getElementById(outputId);\n",
              "  // Cache steps on the outputElement to make it available for the next call\n",
              "  // to uploadFilesContinue from Python.\n",
              "  outputElement.steps = steps;\n",
              "\n",
              "  return _uploadFilesContinue(outputId);\n",
              "}\n",
              "\n",
              "// This is roughly an async generator (not supported in the browser yet),\n",
              "// where there are multiple asynchronous steps and the Python side is going\n",
              "// to poll for completion of each step.\n",
              "// This uses a Promise to block the python side on completion of each step,\n",
              "// then passes the result of the previous step as the input to the next step.\n",
              "function _uploadFilesContinue(outputId) {\n",
              "  const outputElement = document.getElementById(outputId);\n",
              "  const steps = outputElement.steps;\n",
              "\n",
              "  const next = steps.next(outputElement.lastPromiseValue);\n",
              "  return Promise.resolve(next.value.promise).then((value) => {\n",
              "    // Cache the last promise value to make it available to the next\n",
              "    // step of the generator.\n",
              "    outputElement.lastPromiseValue = value;\n",
              "    return next.value.response;\n",
              "  });\n",
              "}\n",
              "\n",
              "/**\n",
              " * Generator function which is called between each async step of the upload\n",
              " * process.\n",
              " * @param {string} inputId Element ID of the input file picker element.\n",
              " * @param {string} outputId Element ID of the output display.\n",
              " * @return {!Iterable<!Object>} Iterable of next steps.\n",
              " */\n",
              "function* uploadFilesStep(inputId, outputId) {\n",
              "  const inputElement = document.getElementById(inputId);\n",
              "  inputElement.disabled = false;\n",
              "\n",
              "  const outputElement = document.getElementById(outputId);\n",
              "  outputElement.innerHTML = '';\n",
              "\n",
              "  const pickedPromise = new Promise((resolve) => {\n",
              "    inputElement.addEventListener('change', (e) => {\n",
              "      resolve(e.target.files);\n",
              "    });\n",
              "  });\n",
              "\n",
              "  const cancel = document.createElement('button');\n",
              "  inputElement.parentElement.appendChild(cancel);\n",
              "  cancel.textContent = 'Cancel upload';\n",
              "  const cancelPromise = new Promise((resolve) => {\n",
              "    cancel.onclick = () => {\n",
              "      resolve(null);\n",
              "    };\n",
              "  });\n",
              "\n",
              "  // Wait for the user to pick the files.\n",
              "  const files = yield {\n",
              "    promise: Promise.race([pickedPromise, cancelPromise]),\n",
              "    response: {\n",
              "      action: 'starting',\n",
              "    }\n",
              "  };\n",
              "\n",
              "  cancel.remove();\n",
              "\n",
              "  // Disable the input element since further picks are not allowed.\n",
              "  inputElement.disabled = true;\n",
              "\n",
              "  if (!files) {\n",
              "    return {\n",
              "      response: {\n",
              "        action: 'complete',\n",
              "      }\n",
              "    };\n",
              "  }\n",
              "\n",
              "  for (const file of files) {\n",
              "    const li = document.createElement('li');\n",
              "    li.append(span(file.name, {fontWeight: 'bold'}));\n",
              "    li.append(span(\n",
              "        `(${file.type || 'n/a'}) - ${file.size} bytes, ` +\n",
              "        `last modified: ${\n",
              "            file.lastModifiedDate ? file.lastModifiedDate.toLocaleDateString() :\n",
              "                                    'n/a'} - `));\n",
              "    const percent = span('0% done');\n",
              "    li.appendChild(percent);\n",
              "\n",
              "    outputElement.appendChild(li);\n",
              "\n",
              "    const fileDataPromise = new Promise((resolve) => {\n",
              "      const reader = new FileReader();\n",
              "      reader.onload = (e) => {\n",
              "        resolve(e.target.result);\n",
              "      };\n",
              "      reader.readAsArrayBuffer(file);\n",
              "    });\n",
              "    // Wait for the data to be ready.\n",
              "    let fileData = yield {\n",
              "      promise: fileDataPromise,\n",
              "      response: {\n",
              "        action: 'continue',\n",
              "      }\n",
              "    };\n",
              "\n",
              "    // Use a chunked sending to avoid message size limits. See b/62115660.\n",
              "    let position = 0;\n",
              "    do {\n",
              "      const length = Math.min(fileData.byteLength - position, MAX_PAYLOAD_SIZE);\n",
              "      const chunk = new Uint8Array(fileData, position, length);\n",
              "      position += length;\n",
              "\n",
              "      const base64 = btoa(String.fromCharCode.apply(null, chunk));\n",
              "      yield {\n",
              "        response: {\n",
              "          action: 'append',\n",
              "          file: file.name,\n",
              "          data: base64,\n",
              "        },\n",
              "      };\n",
              "\n",
              "      let percentDone = fileData.byteLength === 0 ?\n",
              "          100 :\n",
              "          Math.round((position / fileData.byteLength) * 100);\n",
              "      percent.textContent = `${percentDone}% done`;\n",
              "\n",
              "    } while (position < fileData.byteLength);\n",
              "  }\n",
              "\n",
              "  // All done.\n",
              "  yield {\n",
              "    response: {\n",
              "      action: 'complete',\n",
              "    }\n",
              "  };\n",
              "}\n",
              "\n",
              "scope.google = scope.google || {};\n",
              "scope.google.colab = scope.google.colab || {};\n",
              "scope.google.colab._files = {\n",
              "  _uploadFiles,\n",
              "  _uploadFilesContinue,\n",
              "};\n",
              "})(self);\n",
              "</script> "
            ]
          },
          "metadata": {}
        },
        {
          "output_type": "stream",
          "name": "stdout",
          "text": [
            "Saving 7b8f10b0205ae74762e82f976857e4fc.nc to 7b8f10b0205ae74762e82f976857e4fc.nc\n"
          ]
        }
      ]
    },
    {
      "cell_type": "code",
      "source": [
        "import netCDF4\n",
        "\n",
        "def dump_netcdf_header(file_path):\n",
        "    # Open the NetCDF file\n",
        "    nc_file = netCDF4.Dataset(file_path, 'r')\n",
        "\n",
        "    # Get global attributes\n",
        "    print(\"Global Attributes:\")\n",
        "    for attr in nc_file.ncattrs():\n",
        "        print(f\"    {attr}: {nc_file.getncattr(attr)}\")\n",
        "\n",
        "    # Get dimensions\n",
        "    print(\"\\nDimensions:\")\n",
        "    for dim in nc_file.dimensions:\n",
        "        print(f\"    {dim}: {nc_file.dimensions[dim].size}\")\n",
        "\n",
        "    # Get variables and their attributes\n",
        "    print(\"\\nVariables:\")\n",
        "    for var_name in nc_file.variables:\n",
        "        var = nc_file.variables[var_name]\n",
        "        print(f\"    {var_name}: {var.dimensions} ({var.shape})\")\n",
        "        for attr in var.ncattrs():\n",
        "            print(f\"        {attr}: {var.getncattr(attr)}\")\n",
        "\n",
        "    # Close the file\n",
        "    nc_file.close()\n",
        "\n",
        "# Define the file path\n",
        "file_path = '/content/7b8f10b0205ae74762e82f976857e4fc.nc'\n",
        "dump_netcdf_header(file_path)"
      ],
      "metadata": {
        "colab": {
          "base_uri": "https://localhost:8080/"
        },
        "id": "oENVvJghWDe2",
        "outputId": "f463ba39-0533-4555-da6d-82b290e7082e"
      },
      "execution_count": 55,
      "outputs": [
        {
          "output_type": "stream",
          "name": "stdout",
          "text": [
            "Global Attributes:\n",
            "    GRIB_centre: ecmf\n",
            "    GRIB_centreDescription: European Centre for Medium-Range Weather Forecasts\n",
            "    GRIB_subCentre: 0\n",
            "    Conventions: CF-1.7\n",
            "    institution: European Centre for Medium-Range Weather Forecasts\n",
            "    history: 2024-07-29T20:45 GRIB to CDM+CF via cfgrib-0.9.13.0/ecCodes-2.36.0 with {\"source\": \"data.grib\", \"filter_by_keys\": {}, \"encode_cf\": [\"parameter\", \"time\", \"geography\", \"vertical\"]}\n",
            "\n",
            "Dimensions:\n",
            "    latitude: 721\n",
            "    longitude: 1440\n",
            "\n",
            "Variables:\n",
            "    number: () (())\n",
            "        long_name: ensemble member numerical id\n",
            "        units: 1\n",
            "        standard_name: realization\n",
            "    valid_time: () (())\n",
            "        long_name: time\n",
            "        standard_name: time\n",
            "        units: seconds since 1970-01-01\n",
            "        calendar: proleptic_gregorian\n",
            "    surface: () (())\n",
            "        _FillValue: nan\n",
            "        long_name: original GRIB coordinate for key: level(surface)\n",
            "        units: 1\n",
            "    latitude: ('latitude',) ((721,))\n",
            "        _FillValue: nan\n",
            "        units: degrees_north\n",
            "        standard_name: latitude\n",
            "        long_name: latitude\n",
            "        stored_direction: decreasing\n",
            "    longitude: ('longitude',) ((1440,))\n",
            "        _FillValue: nan\n",
            "        units: degrees_east\n",
            "        standard_name: longitude\n",
            "        long_name: longitude\n",
            "    sst: ('latitude', 'longitude') ((721, 1440))\n",
            "        _FillValue: nan\n",
            "        GRIB_paramId: 34\n",
            "        GRIB_dataType: an\n",
            "        GRIB_numberOfPoints: 1038240\n",
            "        GRIB_typeOfLevel: surface\n",
            "        GRIB_stepUnits: 1\n",
            "        GRIB_stepType: instant\n",
            "        GRIB_gridType: regular_ll\n",
            "        GRIB_NV: 0\n",
            "        GRIB_Nx: 1440\n",
            "        GRIB_Ny: 721\n",
            "        GRIB_cfName: unknown\n",
            "        GRIB_cfVarName: sst\n",
            "        GRIB_gridDefinitionDescription: Latitude/Longitude Grid\n",
            "        GRIB_iDirectionIncrementInDegrees: 0.25\n",
            "        GRIB_iScansNegatively: 0\n",
            "        GRIB_jDirectionIncrementInDegrees: 0.25\n",
            "        GRIB_jPointsAreConsecutive: 0\n",
            "        GRIB_jScansPositively: 0\n",
            "        GRIB_latitudeOfFirstGridPointInDegrees: 90.0\n",
            "        GRIB_latitudeOfLastGridPointInDegrees: -90.0\n",
            "        GRIB_longitudeOfFirstGridPointInDegrees: 0.0\n",
            "        GRIB_longitudeOfLastGridPointInDegrees: 359.75\n",
            "        GRIB_missingValue: 3.4028234663852886e+38\n",
            "        GRIB_name: Sea surface temperature\n",
            "        GRIB_shortName: sst\n",
            "        GRIB_units: K\n",
            "        long_name: Sea surface temperature\n",
            "        units: K\n",
            "        standard_name: unknown\n",
            "        coordinates: number valid_time surface latitude longitude\n"
          ]
        }
      ]
    },
    {
      "cell_type": "markdown",
      "source": [
        "File Overview\n",
        "- Dimensions:\n",
        "\n",
        "latitude: 721 points\n",
        "longitude: 1440 points\n",
        "- Variables:\n",
        "\n",
        "number: Scalar (empty dimensions, possibly metadata)\n",
        "\n",
        "valid_time: Scalar (empty dimensions, possibly a timestamp or time indicator)\n",
        "\n",
        "surface: Scalar (empty dimensions, possibly a general surface attribute)\n",
        "\n",
        "latitude: 1D array of 721 latitude points\n",
        "\n",
        "longitude: 1D array of 1440 longitude points\n",
        "sst: 2D array (721x1440) representing sea surface temperature (SST)"
      ],
      "metadata": {
        "id": "h-0bWc7ZVy-Z"
      }
    },
    {
      "cell_type": "code",
      "source": [
        "metadata = \"\"\"\n",
        "Title: ERA5 Hourly Sea Surface Temperature Data for January 2, 2023\n",
        "\n",
        "Abstract:\n",
        "This dataset contains hourly sea surface temperature (SST) data from the ERA5 reanalysis provided by the European Centre for Medium-Range Weather Forecasts (ECMWF). The data is specific to January 2, 2023, and covers global spatial extent with a resolution of 0.25 degrees. It is in NetCDF format and represents a single time step for that day.\n",
        "\n",
        "\n",
        "Spatial Coverage:\n",
        "- Latitude: 90.0 to -90.0 degrees\n",
        "- Longitude: 0.0 to 359.75 degrees\n",
        "- Bounding Box: (90.0, -180.0, -90.0, 359.75)\n",
        "\n",
        "Temporal Coverage:\n",
        "- Date: January 2, 2023\n",
        "- Time: Hourly\n",
        "- Temporal Resolution: 1 hour\n",
        "\n",
        "Source Information:\n",
        "- Institution: European Centre for Medium-Range Weather Forecasts (ECMWF)\n",
        "  - Address: Shinfield Park, Reading, RG2 9AX, United Kingdom\n",
        "  - Website: https://www.ecmwf.int/\n",
        "\n",
        "- Data Collection Method: The dataset is derived from ERA5 reanalysis and converted to NetCDF format. SST measurements are taken hourly.\n",
        "\n",
        "- Data Quality and Validation: Data is validated for accuracy. Missing values are represented as `nan`. The dataset has been processed to ensure reliability and precision.\n",
        "\n",
        "Dataset Structure:\n",
        "- Variables:\n",
        "  - `sst`:\n",
        "    - Description: Sea surface temperature\n",
        "    - Units: Kelvin (K)\n",
        "    - Long Name: Sea surface temperature\n",
        "    - Standard Name: sea_surface_temperature\n",
        "    - Data Type: Float32\n",
        "    - Missing Value: nan\n",
        "\n",
        "- Dimensions:\n",
        "  - `latitude`:\n",
        "    - Size: 721\n",
        "    - Units: degrees_north\n",
        "    - Range: 90.0 to -90.0 degrees\n",
        "\n",
        "  - `longitude`:\n",
        "    - Size: 1440\n",
        "    - Units: degrees_east\n",
        "    - Range: 0.0 to 359.75 degrees\n",
        "\n",
        "Format and Accessibility:\n",
        "- File Format: NetCDF (Network Common Data Form)\n",
        "- Access Rights: Open access with attribution. Licensed under Creative Commons Attribution 4.0 International (CC BY 4.0).\n",
        "- Data Provenance: Converted from ERA5 GRIB files to NetCDF format using cfgrib and ecCodes tools.\n",
        "\n",
        "Contact Information:\n",
        "- Primary Contact: ECMWF Data Support\n",
        "  - Email: data.support@ecmwf.int\n",
        "  - Website: https://www.ecmwf.int/about/contact\n",
        "\n",
        "Compliance:\n",
        "- Conforms to CF-1.7 conventions\n",
        "- Adheres to WIGOS Metadata Standard (WMO-No. 1192)\n",
        "  - [WIGOS Metadata Standard (WMO-No. 1192)](https://www.wmo.int/pages/prog/www/wigos/documents/WMO_No_1192_WIGOS_Metadata_Standards_2014.pdf)\n",
        "- [CF Conventions Documentation](http://cfconventions.org/cf-conventions/v1.7.html)\n",
        "\"\"\"\n",
        "\n",
        "# Save the updated metadata to a file\n",
        "metadata_file_path = '/content/7b8f10b0205ae74762e82f976857e4fc_metadata.txt'\n",
        "with open(metadata_file_path, 'w') as f:\n",
        "    f.write(metadata)\n",
        "\n",
        "print(f\"Metadata with links saved to {metadata_file_path}\")\n"
      ],
      "metadata": {
        "colab": {
          "base_uri": "https://localhost:8080/"
        },
        "id": "86x7aeHpf_uK",
        "outputId": "c2b5c898-f4e8-4912-b2a9-756130145d3d"
      },
      "execution_count": 69,
      "outputs": [
        {
          "output_type": "stream",
          "name": "stdout",
          "text": [
            "Metadata with links saved to /content/7b8f10b0205ae74762e82f976857e4fc_metadata.txt\n"
          ]
        }
      ]
    },
    {
      "cell_type": "code",
      "source": [
        "import netCDF4\n",
        "\n",
        "# Open the NetCDF file in append mode\n",
        "nc_file = netCDF4.Dataset(file_path, 'a')\n",
        "\n",
        "# Add a new global attribute with a URL\n",
        "nc_file.setncattr('metadata_url', 'https://example.com/7b8f10b0205ae74762e82f976857e4fc_metadata.txt')\n",
        "\n",
        "# Save and close the file\n",
        "nc_file.close()"
      ],
      "metadata": {
        "id": "eI7EBuN8Zlqa"
      },
      "execution_count": 70,
      "outputs": []
    },
    {
      "cell_type": "code",
      "source": [
        "# Read and display the metadata file\n",
        "with open(metadata_file_path, 'r') as f:\n",
        "    metadata_content = f.read()\n",
        "\n",
        "print(metadata_content)"
      ],
      "metadata": {
        "colab": {
          "base_uri": "https://localhost:8080/"
        },
        "id": "tPw9RyLqaZY0",
        "outputId": "f86e29bc-ec7e-4080-e9c1-96ac9beb7d28"
      },
      "execution_count": 71,
      "outputs": [
        {
          "output_type": "stream",
          "name": "stdout",
          "text": [
            "\n",
            "Title: ERA5 Hourly Sea Surface Temperature Data for January 2, 2023\n",
            "\n",
            "Abstract:\n",
            "This dataset contains hourly sea surface temperature (SST) data from the ERA5 reanalysis provided by the European Centre for Medium-Range Weather Forecasts (ECMWF). The data is specific to January 2, 2023, and covers global spatial extent with a resolution of 0.25 degrees. It is in NetCDF format and represents a single time step for that day.\n",
            "\n",
            "\n",
            "Spatial Coverage:\n",
            "- Latitude: 90.0 to -90.0 degrees\n",
            "- Longitude: 0.0 to 359.75 degrees\n",
            "- Bounding Box: (90.0, -180.0, -90.0, 359.75)\n",
            "\n",
            "Temporal Coverage:\n",
            "- Date: January 2, 2023\n",
            "- Time: Hourly\n",
            "- Temporal Resolution: 1 hour\n",
            "\n",
            "Source Information:\n",
            "- Institution: European Centre for Medium-Range Weather Forecasts (ECMWF)\n",
            "  - Address: Shinfield Park, Reading, RG2 9AX, United Kingdom\n",
            "  - Website: https://www.ecmwf.int/\n",
            "\n",
            "- Data Collection Method: The dataset is derived from ERA5 reanalysis and converted to NetCDF format. SST measurements are taken hourly.\n",
            "\n",
            "- Data Quality and Validation: Data is validated for accuracy. Missing values are represented as `nan`. The dataset has been processed to ensure reliability and precision.\n",
            "\n",
            "Dataset Structure:\n",
            "- Variables:\n",
            "  - `sst`:\n",
            "    - Description: Sea surface temperature\n",
            "    - Units: Kelvin (K)\n",
            "    - Long Name: Sea surface temperature\n",
            "    - Standard Name: sea_surface_temperature\n",
            "    - Data Type: Float32\n",
            "    - Missing Value: nan\n",
            "\n",
            "- Dimensions:\n",
            "  - `latitude`:\n",
            "    - Size: 721\n",
            "    - Units: degrees_north\n",
            "    - Range: 90.0 to -90.0 degrees\n",
            "\n",
            "  - `longitude`:\n",
            "    - Size: 1440\n",
            "    - Units: degrees_east\n",
            "    - Range: 0.0 to 359.75 degrees\n",
            "\n",
            "Format and Accessibility:\n",
            "- File Format: NetCDF (Network Common Data Form)\n",
            "- Access Rights: Open access with attribution. Licensed under Creative Commons Attribution 4.0 International (CC BY 4.0).\n",
            "- Data Provenance: Converted from ERA5 GRIB files to NetCDF format using cfgrib and ecCodes tools.\n",
            "\n",
            "Contact Information:\n",
            "- Primary Contact: ECMWF Data Support\n",
            "  - Email: data.support@ecmwf.int\n",
            "  - Website: https://www.ecmwf.int/about/contact\n",
            "\n",
            "Compliance:\n",
            "- Conforms to CF-1.7 conventions\n",
            "- Adheres to WIGOS Metadata Standard (WMO-No. 1192)\n",
            "  - [WIGOS Metadata Standard (WMO-No. 1192)](https://www.wmo.int/pages/prog/www/wigos/documents/WMO_No_1192_WIGOS_Metadata_Standards_2014.pdf)\n",
            "- [CF Conventions Documentation](http://cfconventions.org/cf-conventions/v1.7.html)\n",
            "\n"
          ]
        }
      ]
    },
    {
      "cell_type": "code",
      "source": [
        "import netCDF4\n",
        "\n",
        "# Open the NetCDF file in append mode\n",
        "nc_file_path = '/content/7b8f10b0205ae74762e82f976857e4fc.nc'\n",
        "nc_file = netCDF4.Dataset(nc_file_path, 'a')\n",
        "\n",
        "# Add new global attributes\n",
        "nc_file.setncattr('title', 'ERA5 Hourly Sea Surface Temperature Data for January 2, 2023')\n",
        "nc_file.setncattr('abstract', 'This dataset contains hourly sea surface temperature (SST) data from the ERA5 reanalysis provided by the European Centre for Medium-Range Weather Forecasts (ECMWF). The data covers January 2, 2023, and provides global coverage with a resolution of 0.25 degrees. It is formatted in NetCDF and includes hourly measurements for sea surface temperature.')\n",
        "nc_file.setncattr('spatial_coverage', 'Latitude: 90.0 to -90.0 degrees; Longitude: 0.0 to 359.75 degrees; Bounding Box: (90.0, -180.0, -90.0, 359.75)')\n",
        "nc_file.setncattr('temporal_coverage', 'Date: January 2, 2023; Time: Hourly; Temporal Resolution: 1 hour')\n",
        "nc_file.setncattr('source', 'Institution: European Centre for Medium-Range Weather Forecasts (ECMWF); Data Collection Method: Derived from ERA5 reanalysis GRIB files and converted to NetCDF format.')\n",
        "nc_file.setncattr('dataset_structure', 'Variables: sst (Sea surface temperature); Dimensions: latitude (721), longitude (1440)')\n",
        "nc_file.setncattr('format_accessibility', 'File Format: NetCDF; Access Rights: Open access with attribution; Data Provenance: Converted from ERA5 GRIB files to NetCDF format.')\n",
        "nc_file.setncattr('contact_information', 'Primary Contact: ECMWF Data Support; Email: data.support@ecmwf.int; Website: https://www.ecmwf.int/about/contact')\n",
        "nc_file.setncattr('compliance', 'Conforms to CF-1.7 conventions; Adheres to WIGOS Metadata Standard (WMO-No. 1192); [WIGOS Metadata Standard (WMO-No. 1192)](https://www.wmo.int/pages/prog/www/wigos/documents/WMO_No_1192_WIGOS_Metadata_Standards_2014.pdf); [CF Conventions Documentation](http://cfconventions.org/cf-conventions/v1.7.html)')\n",
        "\n",
        "# Save and close the file\n",
        "nc_file.close()\n",
        "\n",
        "print(f\"Metadata added to NetCDF file: {nc_file_path}\")"
      ],
      "metadata": {
        "colab": {
          "base_uri": "https://localhost:8080/"
        },
        "id": "mmaUVI2sg9AV",
        "outputId": "fb49c3ae-7cdb-4d37-b630-05ae4ea7666b"
      },
      "execution_count": 72,
      "outputs": [
        {
          "output_type": "stream",
          "name": "stdout",
          "text": [
            "Metadata added to NetCDF file: /content/7b8f10b0205ae74762e82f976857e4fc.nc\n"
          ]
        }
      ]
    },
    {
      "cell_type": "code",
      "source": [
        "# Reopen the NetCDF file in read mode to check the attributes\n",
        "nc_file = netCDF4.Dataset(nc_file_path, 'r')\n",
        "\n",
        "# Print global attributes\n",
        "for attr in nc_file.ncattrs():\n",
        "    print(f\"{attr}: {nc_file.getncattr(attr)}\")\n",
        "\n",
        "# Close the file\n",
        "nc_file.close()"
      ],
      "metadata": {
        "colab": {
          "base_uri": "https://localhost:8080/"
        },
        "id": "DCO8P_DZg-As",
        "outputId": "4de673d4-6677-46ff-edc6-9a1ea7b82a20"
      },
      "execution_count": 73,
      "outputs": [
        {
          "output_type": "stream",
          "name": "stdout",
          "text": [
            "GRIB_centre: ecmf\n",
            "GRIB_centreDescription: European Centre for Medium-Range Weather Forecasts\n",
            "GRIB_subCentre: 0\n",
            "Conventions: CF-1.7\n",
            "institution: European Centre for Medium-Range Weather Forecasts\n",
            "history: 2024-07-29T20:45 GRIB to CDM+CF via cfgrib-0.9.13.0/ecCodes-2.36.0 with {\"source\": \"data.grib\", \"filter_by_keys\": {}, \"encode_cf\": [\"parameter\", \"time\", \"geography\", \"vertical\"]}\n",
            "metadata_url: https://example.com/7b8f10b0205ae74762e82f976857e4fc_metadata.txt\n",
            "title: ERA5 Hourly Sea Surface Temperature Data for January 2, 2023\n",
            "abstract: This dataset contains hourly sea surface temperature (SST) data from the ERA5 reanalysis provided by the European Centre for Medium-Range Weather Forecasts (ECMWF). The data covers January 2, 2023, and provides global coverage with a resolution of 0.25 degrees. It is formatted in NetCDF and includes hourly measurements for sea surface temperature.\n",
            "keywords: Sea Surface Temperature, SST, ERA5, ECMWF, Reanalysis, Climate, NetCDF, Temperature\n",
            "spatial_coverage: Latitude: 90.0 to -90.0 degrees; Longitude: 0.0 to 359.75 degrees; Bounding Box: (90.0, -180.0, -90.0, 359.75)\n",
            "temporal_coverage: Date: January 2, 2023; Time: Hourly; Temporal Resolution: 1 hour\n",
            "source: Institution: European Centre for Medium-Range Weather Forecasts (ECMWF); Data Collection Method: Derived from ERA5 reanalysis GRIB files and converted to NetCDF format.\n",
            "dataset_structure: Variables: sst (Sea surface temperature); Dimensions: latitude (721), longitude (1440)\n",
            "format_accessibility: File Format: NetCDF; Access Rights: Open access with attribution; Data Provenance: Converted from ERA5 GRIB files to NetCDF format.\n",
            "contact_information: Primary Contact: ECMWF Data Support; Email: data.support@ecmwf.int; Website: https://www.ecmwf.int/about/contact\n",
            "compliance: Conforms to CF-1.7 conventions; Adheres to WIGOS Metadata Standard (WMO-No. 1192); [WIGOS Metadata Standard (WMO-No. 1192)](https://www.wmo.int/pages/prog/www/wigos/documents/WMO_No_1192_WIGOS_Metadata_Standards_2014.pdf); [CF Conventions Documentation](http://cfconventions.org/cf-conventions/v1.7.html)\n"
          ]
        }
      ]
    }
  ]
}