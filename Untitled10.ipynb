{
  "nbformat": 4,
  "nbformat_minor": 0,
  "metadata": {
    "colab": {
      "provenance": [],
      "authorship_tag": "ABX9TyOVp7AqxJNqrNEQ6BsDAzoW",
      "include_colab_link": true
    },
    "kernelspec": {
      "name": "python3",
      "display_name": "Python 3"
    },
    "language_info": {
      "name": "python"
    }
  },
  "cells": [
    {
      "cell_type": "markdown",
      "metadata": {
        "id": "view-in-github",
        "colab_type": "text"
      },
      "source": [
        "<a href=\"https://colab.research.google.com/github/Vale150299/espd1-test/blob/main/Untitled10.ipynb\" target=\"_parent\"><img src=\"https://colab.research.google.com/assets/colab-badge.svg\" alt=\"Open In Colab\"/></a>"
      ]
    },
    {
      "cell_type": "code",
      "execution_count": 1,
      "metadata": {
        "id": "jeHeuaDlkT1k"
      },
      "outputs": [],
      "source": [
        "import requests"
      ]
    },
    {
      "cell_type": "code",
      "source": [
        "# read content of Wikipedia page on European windstorms and extract tabular content\n",
        "URL = \"https://en.wikipedia.org/wiki/List_of_European_windstorms\"\n",
        "\n",
        "try:\n",
        "    response = requests.get(URL)\n",
        "except requests.exceptions.RequestException as e:\n",
        "    print(\"An error occured: \", e)\n",
        "    raise requests.exceptions.RequestException(e)\n",
        "\n",
        "data = response.content\n",
        "print(data[:1024], '...')"
      ],
      "metadata": {
        "colab": {
          "base_uri": "https://localhost:8080/"
        },
        "id": "51oXYi6nK83r",
        "outputId": "cb3ecdf8-6c50-411a-e507-887d103b1f34"
      },
      "execution_count": 2,
      "outputs": [
        {
          "output_type": "stream",
          "name": "stdout",
          "text": [
            "b'<!DOCTYPE html>\\n<html class=\"client-nojs vector-feature-language-in-header-enabled vector-feature-language-in-main-page-header-disabled vector-feature-sticky-header-disabled vector-feature-page-tools-pinned-disabled vector-feature-toc-pinned-clientpref-1 vector-feature-main-menu-pinned-disabled vector-feature-limited-width-clientpref-1 vector-feature-limited-width-content-enabled vector-feature-custom-font-size-clientpref-0 vector-feature-appearance-disabled vector-feature-appearance-pinned-clientpref-0 vector-feature-night-mode-disabled skin-theme-clientpref-day vector-toc-available\" lang=\"en\" dir=\"ltr\">\\n<head>\\n<meta charset=\"UTF-8\">\\n<title>List of European windstorms - Wikipedia</title>\\n<script>(function(){var className=\"client-js vector-feature-language-in-header-enabled vector-feature-language-in-main-page-header-disabled vector-feature-sticky-header-disabled vector-feature-page-tools-pinned-disabled vector-feature-toc-pinned-clientpref-1 vector-feature-main-menu-pinned-disabled vector-feature-limited-wid' ...\n"
          ]
        }
      ]
    },
    {
      "cell_type": "markdown",
      "source": [
        "It seems you're trying to extract tabular content from the Wikipedia page on European windstorms. To proceed, we'll need to parse the HTML content of the page to locate and extract the table."
      ],
      "metadata": {
        "id": "NNS02TNRRjhF"
      }
    },
    {
      "cell_type": "code",
      "source": [
        "# now let's try to locate the beginning of the table\n",
        "i = data.find(b\"<th>\") # (b\"Grote Mandrenke\")\n",
        "if i > 0:\n",
        "    print(f\"Table starts at position {i}:\\n{data[i:i+2048]}\")"
      ],
      "metadata": {
        "colab": {
          "base_uri": "https://localhost:8080/"
        },
        "id": "H2pvN_qaMI5s",
        "outputId": "12a61d6e-aa40-4d2f-a94a-edc66b9c7225"
      },
      "execution_count": 3,
      "outputs": [
        {
          "output_type": "stream",
          "name": "stdout",
          "text": [
            "Table starts at position 39977:\n",
            "b'<th>Date\\n</th>\\n<th>Notes\\n</th></tr>\\n<tr valign=\"top\">\\n<td><a href=\"/wiki/Grote_Mandrenke\" class=\"mw-redirect\" title=\"Grote Mandrenke\">Grote Mandrenke</a> (known as St Maury\\'s wind in Ireland)<sup id=\"cite_ref-1\" class=\"reference\"><a href=\"#cite_note-1\">&#91;1&#93;</a></sup>\\n</td>\\n<td>15\\xe2\\x80\\x9316 January 1362\\n</td>\\n<td>A southwesterly Atlantic gale swept across England, the Netherlands, northern Germany and southern Denmark, killing over 25,000 and changing the Dutch-German-Danish coastline.\\n</td></tr>\\n<tr valign=\"top\">\\n<td><a href=\"/wiki/All_Saints%27_Flood_(1570)\" title=\"All Saints&#39; Flood (1570)\">All Saints\\' Flood</a>\\n</td>\\n<td>1 November 1570 (11&#160;November, New Style)\\n</td>\\n<td><sup id=\"cite_ref-Lamb1991_2-0\" class=\"reference\"><a href=\"#cite_note-Lamb1991-2\">&#91;2&#93;</a></sup>\\n</td></tr>\\n<tr valign=\"top\">\\n<td><a href=\"/wiki/Spanish_Armada\" title=\"Spanish Armada\">Spanish Armada</a> storms\\n</td>\\n<td>1588\\n</td>\\n<td>After the Battle of Gravelines, the Armada was forced to flee northwards, and attempted to return to Spain by sailing around <a href=\"/wiki/Scotland\" title=\"Scotland\">Scotland</a> and Ireland. Here, the ships ran into a series of powerful westerly gales. Already in poor condition after an extended period at sea, many ships were sunk, or driven onto the coast and wrecked, with over 50 ships lost. The late 16th century, and especially 1588, was marked by unusually strong North Atlantic storms, perhaps associated with a high accumulation of polar ice off the coast of <a href=\"/wiki/Greenland\" title=\"Greenland\">Greenland</a>, a characteristic phenomenon of the \"<a href=\"/wiki/Little_Ice_Age\" title=\"Little Ice Age\">Little Ice Age</a>.\"<sup id=\"cite_ref-3\" class=\"reference\"><a href=\"#cite_note-3\">&#91;3&#93;</a></sup>\\n</td></tr>\\n<tr valign=\"top\">\\n<td>Hard Candlemas\\n</td>\\n<td>2 February 1602\\n</td>\\n<td>The <a href=\"/wiki/Faroe_Islands\" title=\"Faroe Islands\">Faroe Islands</a> were hit by a great storm, today still remembered as the <i>hard Kyndelmisse</i>. The storm permanently destroyed the sheltered nat'\n"
          ]
        }
      ]
    },
    {
      "cell_type": "markdown",
      "source": [
        "The script prints out the position of that tag within the content.This position is essentially the index or location within the entire HTML content where the <th> tag starts. Additionally, it prints out the following 2048 characters of content from that position.\n",
        "th is used to define table header in a HTML table\n",
        "This code attempts to locate the beginning of the table by searching for the \"<th>\" tag in the HTML content of the Wikipedia page. If found, it prints out the position of the \"<th>\" tag in the content along with the following 2048 characters."
      ],
      "metadata": {
        "id": "BIGKmVkgR-8H"
      }
    },
    {
      "cell_type": "markdown",
      "source": [
        "This script looks for the <table> tag to locate the start of the table and then prints the first 2048 bytes of the table content. This should give you a good indication of the structure of the table you're dealing with. If necessary, you can adjust the number of bytes being printed to capture more or less of the table."
      ],
      "metadata": {
        "id": "PDyzLAttPIx8"
      }
    },
    {
      "cell_type": "code",
      "source": [
        "# It would be cumbersome to extract this information manually\n",
        "# Use beautifulsoup or pandas to digest the HTML table\n",
        "import pandas as pd\n",
        "\n",
        "dataframes = pd.read_html(URL)\n",
        "print(dataframes[1])  # one example"
      ],
      "metadata": {
        "colab": {
          "base_uri": "https://localhost:8080/"
        },
        "id": "ObBFKJ6OPJrB",
        "outputId": "4b0130f1-2a20-4f53-fb75-4e9fff80a73b"
      },
      "execution_count": 4,
      "outputs": [
        {
          "output_type": "stream",
          "name": "stdout",
          "text": [
            "                               Event                 Date  \\\n",
            "0                      Galnemåndagen        11 March 1822   \n",
            "1                      February 1825                  NaN   \n",
            "2              Night of the Big Wind     6–7 January 1839   \n",
            "3       Moray Firth fishing disaster          August 1848   \n",
            "4                               1850          Winter 1850   \n",
            "5                Royal Charter Storm   25–26 October 1859   \n",
            "6                 Great Gale of 1871     10 February 1871   \n",
            "7             \"Lothar's big brother\"        12 March 1876   \n",
            "8            The Tay Bridge Disaster     28 December 1879   \n",
            "9                  Eyemouth Disaster      14 October 1881   \n",
            "10              The Ochtertyre storm   19–28 January 1884   \n",
            "11  The great storm of November 1893  16–20 November 1893   \n",
            "12            \"North German Express\"     12 February 1894   \n",
            "\n",
            "                                                Notes  \n",
            "0   A severe storm in Norway which may have caused...  \n",
            "1   3–5 February 1825: Winds over the North Sea le...  \n",
            "2   The most severe windstorm to hit Ireland in re...  \n",
            "3                                                 NaN  \n",
            "4   29 January, Yrväderstisdagen, saw Sweden affec...  \n",
            "5   The Royal Charter Storm was considered to be t...  \n",
            "6   A severe storm affected England with 28 ships ...  \n",
            "7   Maximum winds crossed northern France, Belgium...  \n",
            "8   Severe gales (estimated to be Force 10–11) swe...  \n",
            "9   A severe storm struck the southeast coast of S...  \n",
            "10  A series of deep Atlantic depressions crossed ...  \n",
            "11                                               [16]  \n",
            "12  A rapidly moving storm brought high winds to N...  \n"
          ]
        }
      ]
    },
    {
      "cell_type": "markdown",
      "source": [
        " The read_html function in pandas automatically detects tables within the provided URL and returns a list of DataFrame objects representing those tables.\n",
        " Read_html of pandas retrieves the HTML content from that URL, searches for <table> elements within the HTML content, and then attempts to extract the tabular data from those tables. Pandas extracts the tabular data and converts it into a DataFrame object."
      ],
      "metadata": {
        "id": "K-5dgSSOP4Jj"
      }
    },
    {
      "cell_type": "markdown",
      "source": [
        "This code snippet uses the read_html function from the Pandas library to parse the HTML content of the provided URL and extract tables into a list of DataFrames. Then, it prints one of the extracted DataFrames (in this case, the second one)."
      ],
      "metadata": {
        "id": "IHK7eeCUP2BI"
      }
    },
    {
      "cell_type": "code",
      "source": [
        "import pandas as pd\n",
        "\n",
        "URL = \"https://en.wikipedia.org/wiki/List_of_European_windstorms\"\n",
        "dataframes = pd.read_html(URL)\n",
        "\n",
        "# Concatenate all DataFrame objects along the rows axis\n",
        "concatenated_df = pd.concat(dataframes)\n",
        "\n",
        "# Reset index to ensure a continuous index after concatenation\n",
        "concatenated_df.reset_index(drop=True, inplace=True)\n",
        "\n",
        "# Print the concatenated DataFrame\n",
        "print(concatenated_df)\n"
      ],
      "metadata": {
        "colab": {
          "base_uri": "https://localhost:8080/"
        },
        "id": "9Epis4yXWiWE",
        "outputId": "ff58cb93-fdf0-4eac-8c7a-e94541bb7a51"
      },
      "execution_count": 5,
      "outputs": [
        {
          "output_type": "stream",
          "name": "stdout",
          "text": [
            "                                                 Event  \\\n",
            "0    Grote Mandrenke (known as St Maury's wind in I...   \n",
            "1                                    All Saints' Flood   \n",
            "2                                Spanish Armada storms   \n",
            "3                                       Hard Candlemas   \n",
            "4                                      Burchardi Flood   \n",
            "..                                                 ...   \n",
            "201                                                NaN   \n",
            "202                                                NaN   \n",
            "203                                                NaN   \n",
            "204                                                NaN   \n",
            "205                                                NaN   \n",
            "\n",
            "                                         Date  \\\n",
            "0                          15–16 January 1362   \n",
            "1    1 November 1570 (11 November, New Style)   \n",
            "2                                        1588   \n",
            "3                             2 February 1602   \n",
            "4                          11–12 October 1634   \n",
            "..                                        ...   \n",
            "201                                       NaN   \n",
            "202                                       NaN   \n",
            "203                                       NaN   \n",
            "204                                       NaN   \n",
            "205                                       NaN   \n",
            "\n",
            "                                                 Notes Name (other name)  \\\n",
            "0    A southwesterly Atlantic gale swept across Eng...               NaN   \n",
            "1                                                  [2]               NaN   \n",
            "2    After the Battle of Gravelines, the Armada was...               NaN   \n",
            "3    The Faroe Islands were hit by a great storm, t...               NaN   \n",
            "4    Also known as \"second Grote Mandrenke\", hit No...               NaN   \n",
            "..                                                 ...               ...   \n",
            "201                                                NaN               NaN   \n",
            "202                                                NaN               NaN   \n",
            "203                                                NaN               NaN   \n",
            "204                                                NaN               NaN   \n",
            "205                                                NaN               NaN   \n",
            "\n",
            "    Dates Minimum pressure Meteorological history Season Official name Formed  \\\n",
            "0     NaN              NaN                    NaN    NaN           NaN    NaN   \n",
            "1     NaN              NaN                    NaN    NaN           NaN    NaN   \n",
            "2     NaN              NaN                    NaN    NaN           NaN    NaN   \n",
            "3     NaN              NaN                    NaN    NaN           NaN    NaN   \n",
            "4     NaN              NaN                    NaN    NaN           NaN    NaN   \n",
            "..    ...              ...                    ...    ...           ...    ...   \n",
            "201   NaN              NaN                    NaN    NaN           NaN    NaN   \n",
            "202   NaN              NaN                    NaN    NaN           NaN    NaN   \n",
            "203   NaN              NaN                    NaN    NaN           NaN    NaN   \n",
            "204   NaN              NaN                    NaN    NaN           NaN    NaN   \n",
            "205   NaN              NaN                    NaN    NaN           NaN    NaN   \n",
            "\n",
            "     ...    0    1    2 vteEuropean windstorms vteEuropean windstorms.1  \\\n",
            "0    ...  NaN  NaN  NaN                    NaN                      NaN   \n",
            "1    ...  NaN  NaN  NaN                    NaN                      NaN   \n",
            "2    ...  NaN  NaN  NaN                    NaN                      NaN   \n",
            "3    ...  NaN  NaN  NaN                    NaN                      NaN   \n",
            "4    ...  NaN  NaN  NaN                    NaN                      NaN   \n",
            "..   ...  ...  ...  ...                    ...                      ...   \n",
            "201  ...  NaN  NaN  NaN                    NaN                      NaN   \n",
            "202  ...  NaN  NaN  NaN                    NaN                      NaN   \n",
            "203  ...  NaN  NaN  NaN                    NaN                      NaN   \n",
            "204  ...  NaN  NaN  NaN                    NaN                      NaN   \n",
            "205  ...  NaN  NaN  NaN                    NaN                      NaN   \n",
            "\n",
            "    vteEuropean windstorms.2 vteEuropean windstorm seasons  \\\n",
            "0                        NaN                           NaN   \n",
            "1                        NaN                           NaN   \n",
            "2                        NaN                           NaN   \n",
            "3                        NaN                           NaN   \n",
            "4                        NaN                           NaN   \n",
            "..                       ...                           ...   \n",
            "201                      NaN                           NaN   \n",
            "202                      NaN                           NaN   \n",
            "203                      NaN                           NaN   \n",
            "204                      NaN                           NaN   \n",
            "205                      NaN                           NaN   \n",
            "\n",
            "    vteEuropean windstorm seasons.1 vteWeather events in the United Kingdom  \\\n",
            "0                               NaN                                     NaN   \n",
            "1                               NaN                                     NaN   \n",
            "2                               NaN                                     NaN   \n",
            "3                               NaN                                     NaN   \n",
            "4                               NaN                                     NaN   \n",
            "..                              ...                                     ...   \n",
            "201                             NaN                       Windstorm seasons   \n",
            "202                             NaN                       HeatwavesDroughts   \n",
            "203                             NaN                               Wildfires   \n",
            "204                             NaN                                   Other   \n",
            "205                             NaN                      1 Disputed tsunami   \n",
            "\n",
            "             vteWeather events in the United Kingdom.1  \n",
            "0                                                  NaN  \n",
            "1                                                  NaN  \n",
            "2                                                  NaN  \n",
            "3                                                  NaN  \n",
            "4                                                  NaN  \n",
            "..                                                 ...  \n",
            "201  2015–16 2016–17 2017–18 2018–19 2019–20 2020–2...  \n",
            "202  1757 1808 1906 1911 1955 1976 1990 1995 2003 2...  \n",
            "203  Summer 2018 February–May 2019 Wareham 2020 Apr...  \n",
            "204                   Great Smog 1952 Great Stink 1858  \n",
            "205                                 1 Disputed tsunami  \n",
            "\n",
            "[206 rows x 27 columns]\n"
          ]
        }
      ]
    },
    {
      "cell_type": "markdown",
      "source": [
        "link-browse data-daily summaries-ftp-ftp://ftp.ncdc.noaa.gov/pub/data/ghcn/daily/readme.txt and open the folder not the file ( i don't know what does it mean)-open  ghcndstations.txt\n",
        "the cpc knows only 0 and 1\n",
        "unicode for the fact that not everyone knows english\n",
        "\n",
        "read me by year by\n",
        "flag: to indicate how storing metadata\n",
        "quality flags if the data are ok\n",
        "source flag: to idicate missing data values"
      ],
      "metadata": {
        "id": "TUDmlcxRlRPq"
      }
    },
    {
      "cell_type": "code",
      "source": [],
      "metadata": {
        "id": "S2svdraTPRqp"
      },
      "execution_count": null,
      "outputs": []
    }
  ]
}