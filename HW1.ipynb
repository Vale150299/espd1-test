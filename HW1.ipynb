{
  "nbformat": 4,
  "nbformat_minor": 0,
  "metadata": {
    "colab": {
      "provenance": [],
      "authorship_tag": "ABX9TyPFklpQ9cU84bXHBLrKERnL",
      "include_colab_link": true
    },
    "kernelspec": {
      "name": "python3",
      "display_name": "Python 3"
    },
    "language_info": {
      "name": "python"
    }
  },
  "cells": [
    {
      "cell_type": "markdown",
      "metadata": {
        "id": "view-in-github",
        "colab_type": "text"
      },
      "source": [
        "<a href=\"https://colab.research.google.com/github/Vale150299/espd1-test/blob/main/HW1.ipynb\" target=\"_parent\"><img src=\"https://colab.research.google.com/assets/colab-badge.svg\" alt=\"Open In Colab\"/></a>"
      ]
    },
    {
      "cell_type": "markdown",
      "source": [
        "# Data organisation and how to download ERA5"
      ],
      "metadata": {
        "id": "PB_G9UzsXyDc"
      }
    },
    {
      "cell_type": "markdown",
      "source": [
        "The full ERA5 and ERA5T datasets are held in the ECMWF data archive (MARS) and a pertinent sub-set of these data, interpolated to a regular latitude/longitude grid, has been copied to the C3S Climate Data Store (CDS) disks. On the CDS disks, where most single level and pressure level parameters are available, analyses are provided rather than forecasts, unless the parameter is only available from the forecasts."
      ],
      "metadata": {
        "id": "sF6-FWxXXwDX"
      }
    },
    {
      "cell_type": "markdown",
      "source": [
        "1. This is formatted as code copy and store your API key in file $HOME/.cdsapirc. You find it at the bottom of your personal profile when you are logged in the CDS."
      ],
      "metadata": {
        "id": "8cifGLfAsnAo"
      }
    },
    {
      "cell_type": "code",
      "source": [
        "# Define the content of the .cdsapirc file\n",
        "cdsapirc_content = \"\"\"\n",
        "url: https://cds.climate.copernicus.eu/api/v2\n",
        "key: 305621:c1c175cb-f45e-4395-8f13-3b3feef879d6\n",
        "\"\"\"\n",
        "\n",
        "# Write the content to the .cdsapirc file in the home directory\n",
        "with open('/root/.cdsapirc', 'w') as file:\n",
        "    file.write(cdsapirc_content)\n"
      ],
      "metadata": {
        "id": "0LK8ekZLtbob"
      },
      "execution_count": 8,
      "outputs": []
    },
    {
      "cell_type": "markdown",
      "source": [
        "This Python code will create a file named .cdsapirc in the home directory of the Colab environment (/root/), and it will write your CDS API key information into that file.\n",
        "After running this code cell in Colab, you should have the .cdsapirc file with your API key stored in the appropriate location."
      ],
      "metadata": {
        "id": "dKUSnx5tuPYl"
      }
    },
    {
      "cell_type": "markdown",
      "source": [
        "2. Install modules"
      ],
      "metadata": {
        "id": "QPEB02SEwKgF"
      }
    },
    {
      "cell_type": "code",
      "source": [
        "!pip install cdsapi\n",
        "!pip install xarray"
      ],
      "metadata": {
        "colab": {
          "base_uri": "https://localhost:8080/"
        },
        "id": "23HSvcvnuahB",
        "outputId": "5c700615-8fa4-4232-ffac-66ded5ec5f53"
      },
      "execution_count": 13,
      "outputs": [
        {
          "output_type": "stream",
          "name": "stdout",
          "text": [
            "Requirement already satisfied: cdsapi in /usr/local/lib/python3.10/dist-packages (0.7.0)\n",
            "Requirement already satisfied: cads-api-client>=0.9.2 in /usr/local/lib/python3.10/dist-packages (from cdsapi) (0.10.0)\n",
            "Requirement already satisfied: requests>=2.5.0 in /usr/local/lib/python3.10/dist-packages (from cdsapi) (2.31.0)\n",
            "Requirement already satisfied: tqdm in /usr/local/lib/python3.10/dist-packages (from cdsapi) (4.66.2)\n",
            "Requirement already satisfied: attrs in /usr/local/lib/python3.10/dist-packages (from cads-api-client>=0.9.2->cdsapi) (23.2.0)\n",
            "Requirement already satisfied: multiurl in /usr/local/lib/python3.10/dist-packages (from cads-api-client>=0.9.2->cdsapi) (0.3.1)\n",
            "Requirement already satisfied: typing-extensions in /usr/local/lib/python3.10/dist-packages (from cads-api-client>=0.9.2->cdsapi) (4.11.0)\n",
            "Requirement already satisfied: charset-normalizer<4,>=2 in /usr/local/lib/python3.10/dist-packages (from requests>=2.5.0->cdsapi) (3.3.2)\n",
            "Requirement already satisfied: idna<4,>=2.5 in /usr/local/lib/python3.10/dist-packages (from requests>=2.5.0->cdsapi) (3.7)\n",
            "Requirement already satisfied: urllib3<3,>=1.21.1 in /usr/local/lib/python3.10/dist-packages (from requests>=2.5.0->cdsapi) (2.0.7)\n",
            "Requirement already satisfied: certifi>=2017.4.17 in /usr/local/lib/python3.10/dist-packages (from requests>=2.5.0->cdsapi) (2024.2.2)\n",
            "Requirement already satisfied: pytz in /usr/local/lib/python3.10/dist-packages (from multiurl->cads-api-client>=0.9.2->cdsapi) (2023.4)\n",
            "Requirement already satisfied: python-dateutil in /usr/local/lib/python3.10/dist-packages (from multiurl->cads-api-client>=0.9.2->cdsapi) (2.8.2)\n",
            "Requirement already satisfied: six>=1.5 in /usr/local/lib/python3.10/dist-packages (from python-dateutil->multiurl->cads-api-client>=0.9.2->cdsapi) (1.16.0)\n",
            "Requirement already satisfied: xarray in /usr/local/lib/python3.10/dist-packages (2023.7.0)\n",
            "Requirement already satisfied: numpy>=1.21 in /usr/local/lib/python3.10/dist-packages (from xarray) (1.25.2)\n",
            "Requirement already satisfied: pandas>=1.4 in /usr/local/lib/python3.10/dist-packages (from xarray) (2.0.3)\n",
            "Requirement already satisfied: packaging>=21.3 in /usr/local/lib/python3.10/dist-packages (from xarray) (24.0)\n",
            "Requirement already satisfied: python-dateutil>=2.8.2 in /usr/local/lib/python3.10/dist-packages (from pandas>=1.4->xarray) (2.8.2)\n",
            "Requirement already satisfied: pytz>=2020.1 in /usr/local/lib/python3.10/dist-packages (from pandas>=1.4->xarray) (2023.4)\n",
            "Requirement already satisfied: tzdata>=2022.1 in /usr/local/lib/python3.10/dist-packages (from pandas>=1.4->xarray) (2024.1)\n",
            "Requirement already satisfied: six>=1.5 in /usr/local/lib/python3.10/dist-packages (from python-dateutil>=2.8.2->pandas>=1.4->xarray) (1.16.0)\n"
          ]
        }
      ]
    },
    {
      "cell_type": "markdown",
      "source": [
        "3. Retrieve the ERA5 or ERA5T data: Use the retrieve method of the cdsapi.Client object to download the desired dataset. You will need to specify parameters such as the variable, time period, geographical extent, and resolution."
      ],
      "metadata": {
        "id": "GKNtBTtD0xNa"
      }
    },
    {
      "cell_type": "code",
      "source": [
        "import cdsapi"
      ],
      "metadata": {
        "id": "ykZk2i5I3vYW"
      },
      "execution_count": 14,
      "outputs": []
    },
    {
      "cell_type": "code",
      "source": [
        "c = cdsapi.Client()"
      ],
      "metadata": {
        "id": "ur3mxl5T3o2Z"
      },
      "execution_count": 15,
      "outputs": []
    },
    {
      "cell_type": "code",
      "execution_count": 18,
      "metadata": {
        "id": "e38e27ef-9350-4137-af4f-91059dca92f9",
        "outputId": "a003a8af-571a-4163-f42a-dbc0c4a38f82",
        "colab": {
          "base_uri": "https://localhost:8080/"
        }
      },
      "outputs": [
        {
          "output_type": "stream",
          "name": "stderr",
          "text": [
            "2024-04-25 15:33:56,101 INFO Welcome to the CDS\n",
            "INFO:cdsapi:Welcome to the CDS\n",
            "2024-04-25 15:33:56,105 INFO Sending request to https://cds.climate.copernicus.eu/api/v2/resources/reanalysis-era5-complete\n",
            "INFO:cdsapi:Sending request to https://cds.climate.copernicus.eu/api/v2/resources/reanalysis-era5-complete\n",
            "2024-04-25 15:33:56,316 INFO Request is completed\n",
            "INFO:cdsapi:Request is completed\n",
            "2024-04-25 15:33:56,319 INFO Downloading https://download-0020.copernicus-climate.eu/cache-compute-0020/cache/data6/adaptor.mars.external-1714035110.1544075-23233-5-bf6524c3-9bdc-4900-82a4-bbf4f80543a3.nc to test.nc (26.2K)\n",
            "INFO:cdsapi:Downloading https://download-0020.copernicus-climate.eu/cache-compute-0020/cache/data6/adaptor.mars.external-1714035110.1544075-23233-5-bf6524c3-9bdc-4900-82a4-bbf4f80543a3.nc to test.nc (26.2K)\n",
            "2024-04-25 15:33:57,137 INFO Download rate 32.2K/s\n",
            "INFO:cdsapi:Download rate 32.2K/s\n"
          ]
        },
        {
          "output_type": "execute_result",
          "data": {
            "text/plain": [
              "Result(content_length=26860,content_type=application/x-netcdf,location=https://download-0020.copernicus-climate.eu/cache-compute-0020/cache/data6/adaptor.mars.external-1714035110.1544075-23233-5-bf6524c3-9bdc-4900-82a4-bbf4f80543a3.nc)"
            ]
          },
          "metadata": {},
          "execution_count": 18
        }
      ],
      "source": [
        "c.retrieve(\"reanalysis-era5-complete\", {\n",
        "    \"class\": \"ea\",\n",
        "    \"date\": \"2023-01-01/to/2023-01-03\",\n",
        "    \"expver\": \"1\",\n",
        "    \"levelist\": \"137\",\n",
        "    \"levtype\": \"ml\",\n",
        "    \"grid\": \"5.625/5.625\",\n",
        "    \"param\": \"130\",\n",
        "    \"step\": \"0\",\n",
        "    \"stream\": \"oper\",\n",
        "    \"time\": \"09:00:00/21:00:00\",\n",
        "    \"type\": \"4v\",\n",
        "    \"format\": \"netcdf\"\n",
        "}, \"test.nc\")"
      ]
    },
    {
      "cell_type": "code",
      "source": [
        "!apt-get install netcdf-bin"
      ],
      "metadata": {
        "colab": {
          "base_uri": "https://localhost:8080/"
        },
        "id": "gg_CH0wJ-bBi",
        "outputId": "72f3501a-cdbb-4303-fcd7-3c567a2dbbc1"
      },
      "execution_count": 20,
      "outputs": [
        {
          "output_type": "stream",
          "name": "stdout",
          "text": [
            "Reading package lists... Done\n",
            "Building dependency tree... Done\n",
            "Reading state information... Done\n",
            "The following NEW packages will be installed:\n",
            "  netcdf-bin\n",
            "0 upgraded, 1 newly installed, 0 to remove and 45 not upgraded.\n",
            "Need to get 204 kB of archives.\n",
            "After this operation, 557 kB of additional disk space will be used.\n",
            "Get:1 http://archive.ubuntu.com/ubuntu jammy/universe amd64 netcdf-bin amd64 1:4.8.1-1 [204 kB]\n",
            "Fetched 204 kB in 1s (398 kB/s)\n",
            "Selecting previously unselected package netcdf-bin.\n",
            "(Reading database ... 121752 files and directories currently installed.)\n",
            "Preparing to unpack .../netcdf-bin_1%3a4.8.1-1_amd64.deb ...\n",
            "Unpacking netcdf-bin (1:4.8.1-1) ...\n",
            "Setting up netcdf-bin (1:4.8.1-1) ...\n",
            "Processing triggers for man-db (2.10.2-1) ...\n"
          ]
        }
      ]
    },
    {
      "cell_type": "code",
      "source": [
        "import subprocess\n",
        "\n",
        "# Define the command to execute\n",
        "command = ['ncdump', '-t', '-v', 'latitude,longitude,time', 'test.nc']\n",
        "\n",
        "# Execute the command and capture the output\n",
        "output = subprocess.run(command, capture_output=True, text=True)\n",
        "\n",
        "# Print the output\n",
        "print(output.stdout)\n"
      ],
      "metadata": {
        "colab": {
          "base_uri": "https://localhost:8080/"
        },
        "id": "lGL9NayE-Lcl",
        "outputId": "384ac1db-bd57-4d5b-f28b-bfed5f0a2801"
      },
      "execution_count": 21,
      "outputs": [
        {
          "output_type": "stream",
          "name": "stdout",
          "text": [
            "netcdf test {\n",
            "dimensions:\n",
            "\tlongitude = 64 ;\n",
            "\tlatitude = 33 ;\n",
            "\ttime = 6 ;\n",
            "variables:\n",
            "\tfloat longitude(longitude) ;\n",
            "\t\tlongitude:units = \"degrees_east\" ;\n",
            "\t\tlongitude:long_name = \"longitude\" ;\n",
            "\tfloat latitude(latitude) ;\n",
            "\t\tlatitude:units = \"degrees_north\" ;\n",
            "\t\tlatitude:long_name = \"latitude\" ;\n",
            "\tint time(time) ;\n",
            "\t\ttime:units = \"hours since 1900-01-01 00:00:00.0\" ;\n",
            "\t\ttime:long_name = \"time\" ;\n",
            "\t\ttime:calendar = \"gregorian\" ;\n",
            "\tshort t(time, latitude, longitude) ;\n",
            "\t\tt:scale_factor = 0.00121173244814695 ;\n",
            "\t\tt:add_offset = 271.325176909655 ;\n",
            "\t\tt:_FillValue = -32767s ;\n",
            "\t\tt:missing_value = -32767s ;\n",
            "\t\tt:units = \"K\" ;\n",
            "\t\tt:long_name = \"Temperature\" ;\n",
            "\t\tt:standard_name = \"air_temperature\" ;\n",
            "\n",
            "// global attributes:\n",
            "\t\t:Conventions = \"CF-1.6\" ;\n",
            "\t\t:history = \"2024-04-25 08:51:50 GMT by grib_to_netcdf-2.28.1: /opt/ecmwf/mars-client/bin/grib_to_netcdf -S param -o /cache/data6/adaptor.mars.external-1714035110.1544075-23233-5-bf6524c3-9bdc-4900-82a4-bbf4f80543a3.nc /cache/tmp/bf6524c3-9bdc-4900-82a4-bbf4f80543a3-adaptor.mars.external-1714035109.0302331-23233-7-tmp.grib\" ;\n",
            "data:\n",
            "\n",
            " longitude = 0, 5.625, 11.25, 16.875, 22.5, 28.125, 33.75, 39.375, 45, \n",
            "    50.625, 56.25, 61.875, 67.5, 73.125, 78.75, 84.375, 90, 95.625, 101.25, \n",
            "    106.875, 112.5, 118.125, 123.75, 129.375, 135, 140.625, 146.25, 151.875, \n",
            "    157.5, 163.125, 168.75, 174.375, 180, 185.625, 191.25, 196.875, 202.5, \n",
            "    208.125, 213.75, 219.375, 225, 230.625, 236.25, 241.875, 247.5, 253.125, \n",
            "    258.75, 264.375, 270, 275.625, 281.25, 286.875, 292.5, 298.125, 303.75, \n",
            "    309.375, 315, 320.625, 326.25, 331.875, 337.5, 343.125, 348.75, 354.375 ;\n",
            "\n",
            " latitude = 90, 84.375, 78.75, 73.125, 67.5, 61.875, 56.25, 50.625, 45, \n",
            "    39.375, 33.75, 28.125, 22.5, 16.875, 11.25, 5.625, 0, -5.625, -11.25, \n",
            "    -16.875, -22.5, -28.125, -33.75, -39.375, -45, -50.625, -56.25, -61.875, \n",
            "    -67.5, -73.125, -78.75, -84.375, -90 ;\n",
            "\n",
            " time = \"2023-01-01 09\", \"2023-01-01 21\", \"2023-01-02 09\", \"2023-01-02 21\", \n",
            "    \"2023-01-03 09\", \"2023-01-03 21\" ;\n",
            "}\n",
            "\n"
          ]
        }
      ]
    },
    {
      "cell_type": "markdown",
      "source": [
        "The output you provided is the metadata summary of the NetCDF file test.nc. It describes the dimensions, variables, and attributes contained within the file.\n",
        "\n",
        "Here's a breakdown of the information:\n",
        "\n",
        "Dimensions:\n",
        "- longitude: 64 data points\n",
        "- latitude: 33 data points\n",
        "- time: 6 data points\n",
        "Variables:\n",
        "- longitude: Array of longitude values with units in degrees east.\n",
        "- latitude: Array of latitude values with units in degrees north.\n",
        "- time: Array of time values representing hours since January 1, 1900, with units in hours.\n",
        "- t: 3D array representing temperature (K) with dimensions (time, latitude, longitude). It has various attributes such as scale_factor, add_offset, units, long_name, and standard_name.\n",
        "Global Attributes:\n",
        "- Conventions: CF-1.6\n",
        "- history: Information about the processing history of the file.\n",
        "Data:\n",
        "- Values for longitude, latitude, and time.\n",
        "- No data is shown for the temperature variable t in the metadata summary.\n",
        "This metadata summary provides valuable information about the structure and contents of the NetCDF file, allowing you to understand and interpret the data it contains. If you have any specific questions or tasks related to this data, feel free to ask!"
      ],
      "metadata": {
        "id": "Qud_ZeW2AZJr"
      }
    },
    {
      "cell_type": "code",
      "source": [
        "import xarray as xr\n",
        "\n",
        "# Open the NetCDF file\n",
        "data = xr.open_dataset('test.nc')\n",
        "\n",
        "# Access the temperature variable 't' and display its data\n",
        "temperature_data = data['t']\n",
        "print(temperature_data)\n"
      ],
      "metadata": {
        "colab": {
          "base_uri": "https://localhost:8080/"
        },
        "id": "Y4l5pRmqASqg",
        "outputId": "d7528764-938f-40c5-e994-ee3d81e26888"
      },
      "execution_count": 22,
      "outputs": [
        {
          "output_type": "stream",
          "name": "stdout",
          "text": [
            "<xarray.DataArray 't' (time: 6, latitude: 33, longitude: 64)>\n",
            "[12672 values with dtype=float32]\n",
            "Coordinates:\n",
            "  * longitude  (longitude) float32 0.0 5.625 11.25 16.88 ... 343.1 348.8 354.4\n",
            "  * latitude   (latitude) float32 90.0 84.38 78.75 73.12 ... -78.75 -84.38 -90.0\n",
            "  * time       (time) datetime64[ns] 2023-01-01T09:00:00 ... 2023-01-03T21:00:00\n",
            "Attributes:\n",
            "    units:          K\n",
            "    long_name:      Temperature\n",
            "    standard_name:  air_temperature\n"
          ]
        }
      ]
    }
  ]
}